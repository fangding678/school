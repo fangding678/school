{
 "cells": [
  {
   "cell_type": "code",
   "execution_count": 1,
   "metadata": {
    "collapsed": true
   },
   "outputs": [],
   "source": [
    "import pandas as pd\n",
    "train = pd.read_csv('train.csv')"
   ]
  },
  {
   "cell_type": "code",
   "execution_count": 2,
   "metadata": {
    "collapsed": true
   },
   "outputs": [],
   "source": [
    "#评分函数\n",
    "import scipy as sp\n",
    "def logloss(act, pred):\n",
    "  epsilon = 1e-15\n",
    "  pred = sp.maximum(epsilon, pred)\n",
    "  pred = sp.minimum(1-epsilon, pred)\n",
    "  ll = -sp.mean(act*sp.log(pred) + sp.subtract(1,act)*sp.log(1-pred))\n",
    "  return ll"
   ]
  },
  {
   "cell_type": "code",
   "execution_count": 3,
   "metadata": {
    "collapsed": false
   },
   "outputs": [
    {
     "data": {
      "image/png": "[encoded data removed]",
      "text/plain": [
       "<matplotlib.figure.Figure at 0x9243cc0>"
      ]
     },
     "metadata": {},
     "output_type": "display_data"
    }
   ],
   "source": [
    "#考察0~1之间分最高的\n",
    "import numpy as np\n",
    "result = []\n",
    "for i in range(0,1000):\n",
    "    i = i*0.001\n",
    "    pred = [i]*train.shape[0]\n",
    "    result.append([i,logloss(train['label'],pred)])\n",
    "result = np.array(result)\n",
    "\n",
    "#用matplotlib画图\n",
    "from matplotlib import pyplot as plt\n",
    "plt.plot(result[:,0],result[:,1])\n",
    "plt.show()"
   ]
  },
  {
   "cell_type": "code",
   "execution_count": 4,
   "metadata": {
    "collapsed": false
   },
   "outputs": [
    {
     "data": {
      "text/plain": [
       "[array([ 0.025     ,  0.11644157]),\n",
       " array([ 0.024     ,  0.11645731]),\n",
       " array([ 0.026     ,  0.11646667]),\n",
       " array([ 0.023     ,  0.11651731]),\n",
       " array([ 0.027     ,  0.11652963]),\n",
       " array([ 0.022     ,  0.11662538]),\n",
       " array([ 0.028     ,  0.11662776]),\n",
       " array([ 0.029     ,  0.11675867]),\n",
       " array([ 0.021     ,  0.11678592]),\n",
       " array([ 0.03     ,  0.1169202])]"
      ]
     },
     "execution_count": 4,
     "metadata": {},
     "output_type": "execute_result"
    }
   ],
   "source": [
    "sorted(result,key=lambda x:x[1])[:10]"
   ]
  },
  {
   "cell_type": "markdown",
   "metadata": {},
   "source": [
    "可见最好的是0.025 分数为0.11644157"
   ]
  },
  {
   "cell_type": "code",
   "execution_count": 5,
   "metadata": {
    "collapsed": true
   },
   "outputs": [],
   "source": [
    "#输出\n",
    "test = pd.read_csv('test.csv')\n",
    "test['prob'] = 0.025\n",
    "test = test[['instanceID','prob']]\n",
    "test.to_csv('submission.csv',index=None)"
   ]
  }
 ],
 "metadata": {
  "kernelspec": {
   "display_name": "Python 2",
   "language": "python",
   "name": "python2"
  },
  "language_info": {
   "codemirror_mode": {
    "name": "ipython",
    "version": 2
   },
   "file_extension": ".py",
   "mimetype": "text/x-python",
   "name": "python",
   "nbconvert_exporter": "python",
   "pygments_lexer": "ipython2",
   "version": "2.7.13"
  }
 },
 "nbformat": 4,
 "nbformat_minor": 2
}
